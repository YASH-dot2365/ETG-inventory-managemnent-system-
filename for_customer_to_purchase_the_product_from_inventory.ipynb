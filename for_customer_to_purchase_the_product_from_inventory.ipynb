{
  "nbformat": 4,
  "nbformat_minor": 0,
  "metadata": {
    "colab": {
      "name": "for customer to purchase the product from inventory.ipynb",
      "provenance": []
    },
    "kernelspec": {
      "name": "python3",
      "display_name": "Python 3"
    },
    "language_info": {
      "name": "python"
    }
  },
  "cells": [
    {
      "cell_type": "code",
      "metadata": {
        "id": "3_asx87nl9jW"
      },
      "source": [
        "fd=open('/record updated.json','r')\n",
        "r=fd.read()\n",
        "fd.close()"
      ],
      "execution_count": null,
      "outputs": []
    },
    {
      "cell_type": "code",
      "metadata": {
        "colab": {
          "base_uri": "https://localhost:8080/"
        },
        "id": "RhYB3RmunK51",
        "outputId": "7e83debc-65a5-4c77-b4be-ed924cfbb7e9"
      },
      "source": [
        "r\n",
        "import json\n",
        "records=json.loads(r)\n",
        "records['1111']"
      ],
      "execution_count": null,
      "outputs": [
        {
          "output_type": "execute_result",
          "data": {
            "text/plain": [
              "{'category': 'fruits',\n",
              " 'cost': 10,\n",
              " 'expiry_date': '1-01-1000',\n",
              " 'product': 'annar'}"
            ]
          },
          "metadata": {},
          "execution_count": 9
        }
      ]
    },
    {
      "cell_type": "code",
      "metadata": {
        "colab": {
          "base_uri": "https://localhost:8080/"
        },
        "id": "zdNchQibnK8k",
        "outputId": "ddc9800b-b5d8-4610-ae3c-1ab9d5592201"
      },
      "source": [
        "user=str(input('enter the product_id:'))\n",
        "quant=int(input('enter the quantity:'))\n",
        "\n",
        "print('product:',records[user]['product'])\n",
        "print('category:',records[user]['category'])\n",
        "print('quantity:',quant)\n",
        "print('expiry_date:',records[user]['expiry_date'])\n",
        "print('cost RS--',records[user]['cost'],'per piece')\n",
        "print('Billing anmount:',records[user]['cost']*int(quant))\n"
      ],
      "execution_count": null,
      "outputs": [
        {
          "output_type": "stream",
          "name": "stdout",
          "text": [
            "enter the product_id:1111\n",
            "enter the quantity:1\n",
            "product: annar\n",
            "category: fruits\n",
            "quantity: 1\n",
            "expiry_date: 1-01-1000\n",
            "cost RS-- 10 per piece\n",
            "Billing anmount: 10\n"
          ]
        }
      ]
    },
    {
      "cell_type": "code",
      "metadata": {
        "id": "ZJdaFOyEpjgE"
      },
      "source": [
        ""
      ],
      "execution_count": null,
      "outputs": []
    },
    {
      "cell_type": "code",
      "metadata": {
        "id": "ps8g-ME1pjip"
      },
      "source": [
        ""
      ],
      "execution_count": null,
      "outputs": []
    },
    {
      "cell_type": "code",
      "metadata": {
        "id": "jHI6LNG0pjlJ"
      },
      "source": [
        ""
      ],
      "execution_count": null,
      "outputs": []
    },
    {
      "cell_type": "code",
      "metadata": {
        "id": "rRadhkZ7pjnh"
      },
      "source": [
        ""
      ],
      "execution_count": null,
      "outputs": []
    },
    {
      "cell_type": "code",
      "metadata": {
        "id": "-nOZyeI3pjpw"
      },
      "source": [
        ""
      ],
      "execution_count": null,
      "outputs": []
    },
    {
      "cell_type": "code",
      "metadata": {
        "id": "5fTdlLjspjse"
      },
      "source": [
        ""
      ],
      "execution_count": null,
      "outputs": []
    },
    {
      "cell_type": "code",
      "metadata": {
        "id": "gVder01kpjui"
      },
      "source": [
        ""
      ],
      "execution_count": null,
      "outputs": []
    },
    {
      "cell_type": "code",
      "metadata": {
        "id": "FC3lP0YQpjxj"
      },
      "source": [
        ""
      ],
      "execution_count": null,
      "outputs": []
    },
    {
      "cell_type": "code",
      "metadata": {
        "id": "u_AT9t7VpjzY"
      },
      "source": [
        ""
      ],
      "execution_count": null,
      "outputs": []
    },
    {
      "cell_type": "code",
      "metadata": {
        "id": "qafTECcApj1w"
      },
      "source": [
        ""
      ],
      "execution_count": null,
      "outputs": []
    },
    {
      "cell_type": "code",
      "metadata": {
        "id": "sWXbZ_PQnK_Z"
      },
      "source": [
        ""
      ],
      "execution_count": null,
      "outputs": []
    },
    {
      "cell_type": "code",
      "metadata": {
        "id": "t9UVYzGCnLB2"
      },
      "source": [
        ""
      ],
      "execution_count": null,
      "outputs": []
    }
  ]
}